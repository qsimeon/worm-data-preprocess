{
 "cells": [
  {
   "cell_type": "markdown",
   "metadata": {},
   "source": [
    "### Preprocessing of Dag2023 data using existing methods\n",
    "---\n",
    "\n",
    "*Last updated: 17 June 2024*\n",
    "\n",
    "This is meant to illustrate how a preprocessor class for a specific source dataset is called to process the neural activity data.\n"
   ]
  },
  {
   "cell_type": "code",
   "execution_count": 9,
   "metadata": {},
   "outputs": [],
   "source": [
    "# @title Imports\n",
    "\n",
    "import os\n",
    "import subprocess\n",
    "\n",
    "from omegaconf import OmegaConf\n",
    "from utils import init_random_seeds\n",
    "from torch_geometric.data import download_url\n",
    "from sklearn.preprocessing import StandardScaler\n",
    "from _utils import Dag2023Preprocessor\n",
    "from utils import ROOT_DIR, EXPERIMENT_DATASETS\n",
    "\n",
    "# Initialize the random seeds\n",
    "init_random_seeds(42)"
   ]
  },
  {
   "cell_type": "code",
   "execution_count": 8,
   "metadata": {},
   "outputs": [
    {
     "name": "stdout",
     "output_type": "stream",
     "text": [
      "Dag2023 dataset already downloaded and unzipped.\n"
     ]
    }
   ],
   "source": [
    "# @title Setup: Download the dataset\n",
    "\n",
    "# download the dataset\n",
    "dataset_name = \"Dag2023\"\n",
    "assert dataset_name in EXPERIMENT_DATASETS, f\"{dataset_name} is not a valid dataset.\"\n",
    "config = OmegaConf.load(\"preprocess.yaml\")\n",
    "url = config.preprocess.opensource_url\n",
    "zipfile = config.preprocess.opensource_zipfile\n",
    "zip_path = os.path.join(ROOT_DIR, zipfile)\n",
    "source_path = os.path.join(ROOT_DIR, zipfile.strip(\".zip\"))\n",
    "\n",
    "if not os.path.exists(os.path.join(source_path, dataset_name)):\n",
    "    download_url(url=url, folder=ROOT_DIR, filename=zipfile)\n",
    "    # unzip the dataset folder\n",
    "    bash_command = [\n",
    "        \"unzip\",\n",
    "        zip_path,\n",
    "        \"{}/*\".format(dataset_name),\n",
    "        \"-d\",\n",
    "        source_path,\n",
    "    ]\n",
    "    std_out = subprocess.run(bash_command, text=True)  # Run the bash command\n",
    "    print(std_out, end=\"\\n\\n\")\n",
    "    # delete the zip file\n",
    "    os.unlink(zip_path)\n",
    "else:\n",
    "    print(f\"{dataset_name} dataset already downloaded and unzipped.\")\n",
    "\n",
    "DATA_DIR = os.path.join(source_path, dataset_name)"
   ]
  },
  {
   "cell_type": "code",
   "execution_count": 7,
   "metadata": {},
   "outputs": [
    {
     "ename": "FileNotFoundError",
     "evalue": "[Errno 2] No such file or directory: '/Users/hectorastrom/Documents/School/MIT/UROP/celegans_ann_iap_2025/code/worm-data-preprocess/preprocess/opensource_data/Dag2023/swf702_with_id'",
     "output_type": "error",
     "traceback": [
      "\u001b[0;31m---------------------------------------------------------------------------\u001b[0m",
      "\u001b[0;31mFileNotFoundError\u001b[0m                         Traceback (most recent call last)",
      "Cell \u001b[0;32mIn[7], line 7\u001b[0m\n\u001b[1;32m      4\u001b[0m resample_dt \u001b[38;5;241m=\u001b[39m \u001b[38;5;241m0.333\u001b[39m\n\u001b[1;32m      6\u001b[0m preprocessor \u001b[38;5;241m=\u001b[39m Dag2023Preprocessor(transform, smooth_method, interpolate_method, resample_dt)\n\u001b[0;32m----> 7\u001b[0m \u001b[43mpreprocessor\u001b[49m\u001b[38;5;241;43m.\u001b[39;49m\u001b[43mpreprocess\u001b[49m\u001b[43m(\u001b[49m\u001b[43m)\u001b[49m\n",
      "File \u001b[0;32m~/Documents/School/MIT/UROP/celegans_ann_iap_2025/code/worm-data-preprocess/preprocess/_utils.py:3955\u001b[0m, in \u001b[0;36mDag2023Preprocessor.preprocess\u001b[0;34m(self)\u001b[0m\n\u001b[1;32m   3953\u001b[0m labels_file \u001b[38;5;241m=\u001b[39m \u001b[38;5;124m\"\u001b[39m\u001b[38;5;124mNeuroPAL_labels_dict.json\u001b[39m\u001b[38;5;124m\"\u001b[39m\n\u001b[1;32m   3954\u001b[0m \u001b[38;5;66;03m# First deal with the swf702_with_id which contains data from labeled neurons\u001b[39;00m\n\u001b[0;32m-> 3955\u001b[0m \u001b[38;5;28;01mfor\u001b[39;00m file_name \u001b[38;5;129;01min\u001b[39;00m \u001b[43mos\u001b[49m\u001b[38;5;241;43m.\u001b[39;49m\u001b[43mlistdir\u001b[49m\u001b[43m(\u001b[49m\u001b[43mwithid_data_files\u001b[49m\u001b[43m)\u001b[49m:\n\u001b[1;32m   3956\u001b[0m     \u001b[38;5;28;01mif\u001b[39;00m \u001b[38;5;129;01mnot\u001b[39;00m file_name\u001b[38;5;241m.\u001b[39mendswith(\u001b[38;5;124m\"\u001b[39m\u001b[38;5;124m.h5\u001b[39m\u001b[38;5;124m\"\u001b[39m):\n\u001b[1;32m   3957\u001b[0m         \u001b[38;5;28;01mcontinue\u001b[39;00m\n",
      "\u001b[0;31mFileNotFoundError\u001b[0m: [Errno 2] No such file or directory: '/Users/hectorastrom/Documents/School/MIT/UROP/celegans_ann_iap_2025/code/worm-data-preprocess/preprocess/opensource_data/Dag2023/swf702_with_id'"
     ]
    }
   ],
   "source": [
    "transform = StandardScaler()\n",
    "smooth_method = \"exponential\"\n",
    "interpolate_method = \"linear\"\n",
    "resample_dt = 0.333\n",
    "\n",
    "preprocessor = Dag2023Preprocessor(transform, smooth_method, interpolate_method, resample_dt)\n",
    "preprocessor.preprocess()"
   ]
  },
  {
   "cell_type": "markdown",
   "metadata": {},
   "source": []
  },
  {
   "cell_type": "markdown",
   "metadata": {},
   "source": []
  },
  {
   "cell_type": "markdown",
   "metadata": {},
   "source": []
  }
 ],
 "metadata": {
  "kernelspec": {
   "display_name": "worm-graph",
   "language": "python",
   "name": "python3"
  },
  "language_info": {
   "codemirror_mode": {
    "name": "ipython",
    "version": 3
   },
   "file_extension": ".py",
   "mimetype": "text/x-python",
   "name": "python",
   "nbconvert_exporter": "python",
   "pygments_lexer": "ipython3",
   "version": "3.12.2"
  }
 },
 "nbformat": 4,
 "nbformat_minor": 2
}
